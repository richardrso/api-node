{
 "cells": [
  {
   "cell_type": "markdown",
   "metadata": {},
   "source": [
    "## Constante com o endereço base da API"
   ]
  },
  {
   "cell_type": "code",
   "execution_count": null,
   "metadata": {
    "vscode": {
     "languageId": "javascript"
    }
   },
   "outputs": [],
   "source": [
    "const API_ADDRESS = 'http://localhost:3000';"
   ]
  },
  {
   "cell_type": "markdown",
   "metadata": {},
   "source": [
    "### Função que recebe um endpoint\n",
    "API_ADDRESS envia um GET para esse endereço se ouver reposta positiva, converte para JSON\n"
   ]
  },
  {
   "cell_type": "code",
   "execution_count": null,
   "metadata": {
    "vscode": {
     "languageId": "javascript"
    }
   },
   "outputs": [],
   "source": [
    "async function get(endpoint) {\n",
    "    return fetch(API_ADDRESS+endpoint).then(resp => resp.json());\n",
    "  }"
   ]
  },
  {
   "cell_type": "markdown",
   "metadata": {},
   "source": [
    "### Função yell usa a função get()\n",
    "Usado fazer chamadas na API no endpoint e monstra um retorno no alert"
   ]
  },
  {
   "cell_type": "code",
   "execution_count": null,
   "metadata": {
    "vscode": {
     "languageId": "javascript"
    }
   },
   "outputs": [],
   "source": [
    "function yell(endpoint) { \n",
    "  loading(true);\n",
    "\n",
    "  get(endpoint)\n",
    "    .then(data => {\n",
    "      alert(`Message: ${data?.message}.\\n\\nCheck the console for data`);\n",
    "      console.log(data);\n",
    "    })\n",
    "    .catch(console.error)\n",
    "    .finally(() => loading(false));\n",
    "}"
   ]
  },
  {
   "cell_type": "markdown",
   "metadata": {},
   "source": [
    "Se o parâmentro 'is' for true a classe loading é adicionada\n",
    "no body se 'is' for false a classe loading é removida */"
   ]
  },
  {
   "cell_type": "code",
   "execution_count": null,
   "metadata": {
    "vscode": {
     "languageId": "javascript"
    }
   },
   "outputs": [],
   "source": [
    "function loading(is = true) {\n",
    "    document.body.classList[is ? 'add' : 'remove']('loading');\n",
    "  } "
   ]
  }
 ],
 "metadata": {
  "language_info": {
   "name": "python"
  }
 },
 "nbformat": 4,
 "nbformat_minor": 2
}
